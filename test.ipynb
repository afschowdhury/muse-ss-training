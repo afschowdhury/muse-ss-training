{
 "cells": [
  {
   "cell_type": "code",
   "execution_count": 1,
   "metadata": {},
   "outputs": [
    {
     "name": "stderr",
     "output_type": "stream",
     "text": [
      "/home/shagoto/codes/headless/test_repos/semantic_search_experiment/env/lib/python3.10/site-packages/tqdm/auto.py:22: TqdmWarning: IProgress not found. Please update jupyter and ipywidgets. See https://ipywidgets.readthedocs.io/en/stable/user_install.html\n",
      "  from .autonotebook import tqdm as notebook_tqdm\n"
     ]
    }
   ],
   "source": [
    "import utils\n",
    "\n",
    "q1,q2,q3,q4 = utils.mujib_relevant_questions_from_excel(\"data/final_data.xlsx\")"
   ]
  },
  {
   "cell_type": "code",
   "execution_count": 2,
   "metadata": {},
   "outputs": [],
   "source": [
    "q1_ques, q1_idx = utils.question_context_splitter(q1)"
   ]
  },
  {
   "cell_type": "code",
   "execution_count": 10,
   "metadata": {},
   "outputs": [],
   "source": [
    "q2_ques, q2_idx = utils.question_context_splitter(q2)"
   ]
  },
  {
   "cell_type": "code",
   "execution_count": 9,
   "metadata": {},
   "outputs": [],
   "source": [
    "q3_ques, q3_idx = utils.question_context_splitter(q3)\n",
    "q4_ques, q4_idx = utils.question_context_splitter(q4)"
   ]
  },
  {
   "cell_type": "code",
   "execution_count": 3,
   "metadata": {},
   "outputs": [
    {
     "data": {
      "text/plain": [
       "(' দেশজুড়ে যুক্তফ্রন্ট প্রচারনা শুরু করেন কে?', 14)"
      ]
     },
     "execution_count": 3,
     "metadata": {},
     "output_type": "execute_result"
    }
   ],
   "source": [
    "q1_ques[5],q1_idx[5]"
   ]
  },
  {
   "cell_type": "code",
   "execution_count": 4,
   "metadata": {},
   "outputs": [],
   "source": [
    "q1_changed = utils.change_to_mujib(q1_ques)\n"
   ]
  },
  {
   "cell_type": "code",
   "execution_count": 11,
   "metadata": {},
   "outputs": [
    {
     "data": {
      "text/plain": [
       "(671, 671)"
      ]
     },
     "execution_count": 11,
     "metadata": {},
     "output_type": "execute_result"
    }
   ],
   "source": [
    "all_ques = []\n",
    "all_ques.extend(q1_ques)\n",
    "all_ques.extend(q2_ques)\n",
    "all_ques.extend(q3_ques)\n",
    "all_ques.extend(q4_ques)\n",
    "\n",
    "\n",
    "all_idx = []\n",
    "all_idx.extend(q1_idx)\n",
    "all_idx.extend(q2_idx)\n",
    "all_idx.extend(q3_idx)\n",
    "all_idx.extend(q4_idx)\n",
    "\n",
    "\n",
    "len(all_ques), len(all_idx)\n",
    "\n"
   ]
  },
  {
   "cell_type": "code",
   "execution_count": 12,
   "metadata": {},
   "outputs": [],
   "source": [
    "all_changed = utils.change_to_mujib(all_ques)"
   ]
  },
  {
   "cell_type": "code",
   "execution_count": 13,
   "metadata": {},
   "outputs": [
    {
     "name": "stdout",
     "output_type": "stream",
     "text": [
      "5605\n"
     ]
    },
    {
     "data": {
      "text/plain": [
       "([('?', 248),\n",
       "  ('মুজিব', 230),\n",
       "  ('কোন', 103),\n",
       "  ('কবে', 103),\n",
       "  ('কে', 102),\n",
       "  ('মুজিবকে', 73),\n",
       "  ('সালে', 65),\n",
       "  ('কত', 63),\n",
       "  ('করেন', 54),\n",
       "  ('হয়?', 54),\n",
       "  ('করা', 53),\n",
       "  ('কি', 49),\n",
       "  ('মুজিবের', 48),\n",
       "  ('মুসলিম', 46),\n",
       "  ('কে?', 44),\n",
       "  ('হয়', 40),\n",
       "  ('করেন?', 38),\n",
       "  ('থেকে', 35),\n",
       "  ('লীগ', 34),\n",
       "  ('পাকিস্তান', 31)],\n",
       " [('?', 248),\n",
       "  ('মুজিব', 230),\n",
       "  ('কোন', 103),\n",
       "  ('কবে', 103),\n",
       "  ('কে', 102),\n",
       "  ('মুজিবকে', 73),\n",
       "  ('সালে', 65),\n",
       "  ('কত', 63),\n",
       "  ('করেন', 54),\n",
       "  ('হয়?', 54),\n",
       "  ('করা', 53),\n",
       "  ('কি', 49),\n",
       "  ('মুজিবের', 48),\n",
       "  ('মুসলিম', 46),\n",
       "  ('কে?', 44),\n",
       "  ('হয়', 40),\n",
       "  ('করেন?', 38),\n",
       "  ('থেকে', 35),\n",
       "  ('লীগ', 34),\n",
       "  ('পাকিস্তান', 31),\n",
       "  ('আওয়ামী', 31),\n",
       "  ('কার', 30),\n",
       "  ('কোথায়', 30),\n",
       "  ('আওয়ামী', 30),\n",
       "  ('মুজিবর', 29),\n",
       "  ('নির্বাচিত', 28),\n",
       "  ('নাম', 28),\n",
       "  ('দেন', 28),\n",
       "  ('হন', 27),\n",
       "  ('লীগের', 26),\n",
       "  ('সাধারণ', 26),\n",
       "  ('ঢাকা', 24),\n",
       "  ('সম্পাদক', 23),\n",
       "  ('হন?', 22),\n",
       "  ('কথা', 22),\n",
       "  ('এর', 21),\n",
       "  ('হিসেবে', 21),\n",
       "  ('সময়', 21),\n",
       "  ('নিয়ে', 21),\n",
       "  ('পূর্ব', 20),\n",
       "  ('ঘোষণা', 20),\n",
       "  ('প্রথম', 20),\n",
       "  ('জন্য', 20),\n",
       "  ('সরকার', 19),\n",
       "  ('ছাত্রলীগের', 19),\n",
       "  ('করার', 18),\n",
       "  ('হয়?', 18),\n",
       "  ('দেওয়া', 18),\n",
       "  ('ভাষা', 18),\n",
       "  ('করে', 17)])"
      ]
     },
     "execution_count": 13,
     "metadata": {},
     "output_type": "execute_result"
    }
   ],
   "source": [
    "utils.bow(all_changed)"
   ]
  },
  {
   "cell_type": "code",
   "execution_count": 14,
   "metadata": {},
   "outputs": [],
   "source": [
    "all_embds = utils.get_embeddings(all_changed)"
   ]
  },
  {
   "cell_type": "code",
   "execution_count": 15,
   "metadata": {},
   "outputs": [
    {
     "name": "stdout",
     "output_type": "stream",
     "text": [
      "Successfully indexed: 244 questions out of 244\n",
      "Models Accuracy :  1.0\n"
     ]
    }
   ],
   "source": [
    "q2_changed = utils.change_to_mujib(q2_ques)\n",
    "utils.evaluate(q2_changed,q2_idx,all_embds,all_idx)"
   ]
  },
  {
   "cell_type": "code",
   "execution_count": 17,
   "metadata": {},
   "outputs": [
    {
     "name": "stdout",
     "output_type": "stream",
     "text": [
      "Successfully indexed: 205 questions out of 244\n",
      "Models Accuracy :  0.8401639344262295\n"
     ]
    }
   ],
   "source": [
    "all_but_q2 = []\n",
    "all_but_q2.extend(q1_ques)\n",
    "all_but_q2.extend(q3_ques)\n",
    "all_but_q2.extend(q4_ques)\n",
    "\n",
    "all_but_q2_changed = utils.change_to_mujib(all_but_q2)\n",
    "\n",
    "all_idx_but_q2= []\n",
    "\n",
    "all_idx_but_q2.extend(q1_idx)\n",
    "all_idx_but_q2.extend(q3_idx)\n",
    "all_idx_but_q2.extend(q4_idx)\n",
    "\n",
    "\n",
    "all_but_q2_embds = utils.get_embeddings(all_but_q2_changed )\n",
    "\n",
    "utils.evaluate(q2_changed,q2_idx,all_but_q2_embds,all_idx_but_q2)\n"
   ]
  },
  {
   "cell_type": "code",
   "execution_count": 18,
   "metadata": {},
   "outputs": [
    {
     "name": "stdout",
     "output_type": "stream",
     "text": [
      "Successfully indexed: 106 questions out of 127\n",
      "Models Accuracy :  0.8346456692913385\n"
     ]
    }
   ],
   "source": [
    "all_but_q3 = []\n",
    "all_but_q3.extend(q1_ques)\n",
    "all_but_q3.extend(q2_ques)\n",
    "all_but_q3.extend(q4_ques)\n",
    "\n",
    "all_but_q3_changed = utils.change_to_mujib(all_but_q3)\n",
    "\n",
    "all_idx_but_q3= []\n",
    "\n",
    "all_idx_but_q3.extend(q1_idx)\n",
    "all_idx_but_q3.extend(q2_idx)\n",
    "all_idx_but_q3.extend(q4_idx)\n",
    "\n",
    "\n",
    "all_but_q3_embds = utils.get_embeddings(all_but_q3_changed )\n",
    "q3_changed = utils.change_to_mujib(q3_ques)\n",
    "\n",
    "utils.evaluate(q3_changed,q3_idx,all_but_q3_embds,all_idx_but_q3)\n"
   ]
  },
  {
   "cell_type": "code",
   "execution_count": 19,
   "metadata": {},
   "outputs": [
    {
     "name": "stdout",
     "output_type": "stream",
     "text": [
      "Successfully indexed: 29 questions out of 35\n",
      "Models Accuracy :  0.8285714285714286\n"
     ]
    }
   ],
   "source": [
    "all_but_q4 = []\n",
    "all_but_q4.extend(q1_ques)\n",
    "all_but_q4.extend(q2_ques)\n",
    "all_but_q4.extend(q3_ques)\n",
    "\n",
    "all_but_q4_changed = utils.change_to_mujib(all_but_q4)\n",
    "\n",
    "all_idx_but_q4= []\n",
    "\n",
    "all_idx_but_q4.extend(q1_idx)\n",
    "all_idx_but_q4.extend(q2_idx)\n",
    "all_idx_but_q4.extend(q3_idx)\n",
    "\n",
    "\n",
    "all_but_q4_embds = utils.get_embeddings(all_but_q4_changed )\n",
    "q4_changed = utils.change_to_mujib(q4_ques)\n",
    "\n",
    "utils.evaluate(q4_changed,q4_idx,all_but_q4_embds,all_idx_but_q4)"
   ]
  }
 ],
 "metadata": {
  "kernelspec": {
   "display_name": "Python 3",
   "language": "python",
   "name": "python3"
  },
  "language_info": {
   "codemirror_mode": {
    "name": "ipython",
    "version": 3
   },
   "file_extension": ".py",
   "mimetype": "text/x-python",
   "name": "python",
   "nbconvert_exporter": "python",
   "pygments_lexer": "ipython3",
   "version": "3.10.8"
  },
  "orig_nbformat": 4,
  "vscode": {
   "interpreter": {
    "hash": "bf9ec3a168eda91ec23e4e4a6573ab2b63a856f23171df9eec7be2cd41d19962"
   }
  }
 },
 "nbformat": 4,
 "nbformat_minor": 2
}
