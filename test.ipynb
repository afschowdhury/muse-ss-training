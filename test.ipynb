{
 "cells": [
  {
   "cell_type": "code",
   "execution_count": 1,
   "metadata": {},
   "outputs": [
    {
     "name": "stderr",
     "output_type": "stream",
     "text": [
      "/home/shagoto/codes/headless/test_repos/semantic_search_experiment/env/lib/python3.10/site-packages/tqdm/auto.py:22: TqdmWarning: IProgress not found. Please update jupyter and ipywidgets. See https://ipywidgets.readthedocs.io/en/stable/user_install.html\n",
      "  from .autonotebook import tqdm as notebook_tqdm\n"
     ]
    }
   ],
   "source": [
    "import utils\n",
    "\n",
    "q1,q2,q3,q4 = utils.mujib_relevant_questions_from_excel(\"data/final_data.xlsx\")"
   ]
  },
  {
   "cell_type": "code",
   "execution_count": 2,
   "metadata": {},
   "outputs": [],
   "source": [
    "q1_ques, q1_idx = utils.question_context_splitter(q1)"
   ]
  },
  {
   "cell_type": "code",
   "execution_count": 3,
   "metadata": {},
   "outputs": [
    {
     "data": {
      "text/plain": [
       "(' দেশজুড়ে যুক্তফ্রন্ট প্রচারনা শুরু করেন কে?', 14)"
      ]
     },
     "execution_count": 3,
     "metadata": {},
     "output_type": "execute_result"
    }
   ],
   "source": [
    "q1_ques[5],q1_idx[5]"
   ]
  },
  {
   "cell_type": "code",
   "execution_count": 4,
   "metadata": {},
   "outputs": [],
   "source": [
    "q1_changed = utils.change_to_mujib(q1_ques)\n"
   ]
  },
  {
   "cell_type": "code",
   "execution_count": 6,
   "metadata": {},
   "outputs": [
    {
     "name": "stdout",
     "output_type": "stream",
     "text": [
      "2493\n"
     ]
    },
    {
     "data": {
      "text/plain": [
       "([('?', 118),\n",
       "  ('মুজিব', 100),\n",
       "  ('সালে', 39),\n",
       "  ('কোন', 39),\n",
       "  ('কে', 38),\n",
       "  ('কত', 36),\n",
       "  ('কবে', 32),\n",
       "  ('মুজিবকে', 29),\n",
       "  ('করেন', 23),\n",
       "  ('করা', 20),\n",
       "  ('মুসলিম', 18),\n",
       "  ('কে?', 18),\n",
       "  ('হয়?', 18),\n",
       "  ('পাকিস্তান', 17),\n",
       "  ('মুজিবের', 17),\n",
       "  ('কার', 15),\n",
       "  ('কোথায়', 15),\n",
       "  ('হয়', 15),\n",
       "  ('আওয়ামী', 14),\n",
       "  ('থেকে', 14)],\n",
       " [('?', 118),\n",
       "  ('মুজিব', 100),\n",
       "  ('সালে', 39),\n",
       "  ('কোন', 39),\n",
       "  ('কে', 38),\n",
       "  ('কত', 36),\n",
       "  ('কবে', 32),\n",
       "  ('মুজিবকে', 29),\n",
       "  ('করেন', 23),\n",
       "  ('করা', 20),\n",
       "  ('মুসলিম', 18),\n",
       "  ('কে?', 18),\n",
       "  ('হয়?', 18),\n",
       "  ('পাকিস্তান', 17),\n",
       "  ('মুজিবের', 17),\n",
       "  ('কার', 15),\n",
       "  ('কোথায়', 15),\n",
       "  ('হয়', 15),\n",
       "  ('আওয়ামী', 14),\n",
       "  ('থেকে', 14),\n",
       "  ('দেন', 14),\n",
       "  ('বলে।', 14),\n",
       "  ('নির্বাচিত', 13),\n",
       "  ('করেন?', 13),\n",
       "  ('প্রথম', 13),\n",
       "  ('কথা', 13),\n",
       "  ('লীগের', 12),\n",
       "  ('সাধারণ', 12),\n",
       "  ('সময়', 12),\n",
       "  ('ঢাকা', 12),\n",
       "  ('লীগ', 11),\n",
       "  ('পূর্ব', 11),\n",
       "  ('কি', 11),\n",
       "  ('সম্পাদক', 10),\n",
       "  ('হন', 10),\n",
       "  ('করার', 10),\n",
       "  ('আওয়ামী', 10),\n",
       "  ('হয়?', 10),\n",
       "  ('ঘোষণা', 10),\n",
       "  ('লোকেরা', 10),\n",
       "  ('হিসেবে', 9),\n",
       "  ('হন?', 9),\n",
       "  ('ঘোষণা', 9),\n",
       "  ('স্বাধীনতার', 9),\n",
       "  ('ভাষা', 9),\n",
       "  ('ভাষায়', 9),\n",
       "  ('এর', 8),\n",
       "  ('হয়', 8),\n",
       "  ('মুজিব?', 8),\n",
       "  ('করে', 8)])"
      ]
     },
     "execution_count": 6,
     "metadata": {},
     "output_type": "execute_result"
    }
   ],
   "source": [
    "utils.bow(q1_changed)"
   ]
  },
  {
   "cell_type": "code",
   "execution_count": null,
   "metadata": {},
   "outputs": [],
   "source": []
  }
 ],
 "metadata": {
  "kernelspec": {
   "display_name": "Python 3",
   "language": "python",
   "name": "python3"
  },
  "language_info": {
   "codemirror_mode": {
    "name": "ipython",
    "version": 3
   },
   "file_extension": ".py",
   "mimetype": "text/x-python",
   "name": "python",
   "nbconvert_exporter": "python",
   "pygments_lexer": "ipython3",
   "version": "3.10.8"
  },
  "orig_nbformat": 4,
  "vscode": {
   "interpreter": {
    "hash": "bf9ec3a168eda91ec23e4e4a6573ab2b63a856f23171df9eec7be2cd41d19962"
   }
  }
 },
 "nbformat": 4,
 "nbformat_minor": 2
}
