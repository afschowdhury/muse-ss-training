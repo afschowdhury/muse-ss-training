{
 "cells": [
  {
   "cell_type": "code",
   "execution_count": 1,
   "metadata": {},
   "outputs": [
    {
     "name": "stderr",
     "output_type": "stream",
     "text": [
      "/home/shagoto/codes/headless/test_repos/semantic_search_experiment/env/lib/python3.10/site-packages/tqdm/auto.py:22: TqdmWarning: IProgress not found. Please update jupyter and ipywidgets. See https://ipywidgets.readthedocs.io/en/stable/user_install.html\n",
      "  from .autonotebook import tqdm as notebook_tqdm\n"
     ]
    }
   ],
   "source": [
    "from sentence_transformers import SentenceTransformer\n",
    "import numpy as np\n",
    "import torch\n",
    "import pickle\n",
    "from sentence_transformers.util import semantic_search\n",
    "import json"
   ]
  },
  {
   "cell_type": "code",
   "execution_count": 2,
   "metadata": {},
   "outputs": [],
   "source": [
    "import pandas as pd\n",
    "df = pd.read_excel(\"data/final_data.xlsx\")"
   ]
  },
  {
   "cell_type": "code",
   "execution_count": 3,
   "metadata": {},
   "outputs": [],
   "source": [
    "ques_df = df[['Q1','Q2','Q3','Q4']]"
   ]
  },
  {
   "cell_type": "code",
   "execution_count": 4,
   "metadata": {},
   "outputs": [],
   "source": [
    "q1 = ques_df['Q1'].dropna()\n",
    "q2 = ques_df['Q2'].dropna()\n",
    "q3 = ques_df['Q3'].dropna()\n",
    "q4 = ques_df['Q4'].dropna()"
   ]
  },
  {
   "cell_type": "code",
   "execution_count": 5,
   "metadata": {},
   "outputs": [
    {
     "name": "stdout",
     "output_type": "stream",
     "text": [
      "Total Q1 : 419\n",
      "Total Q2 : 386\n",
      "Total Q3 : 197\n",
      "Total Q4 : 48\n"
     ]
    }
   ],
   "source": [
    "print(f\"Total Q1 : {len(q1)}\")\n",
    "print(f\"Total Q2 : {len(q2)}\")\n",
    "print(f\"Total Q3 : {len(q3)}\")\n",
    "print(f\"Total Q4 : {len(q4)}\")"
   ]
  },
  {
   "cell_type": "code",
   "execution_count": 6,
   "metadata": {},
   "outputs": [
    {
     "data": {
      "text/plain": [
       "(419, 419)"
      ]
     },
     "execution_count": 6,
     "metadata": {},
     "output_type": "execute_result"
    }
   ],
   "source": [
    "q1_ques= []\n",
    "\n",
    "for q in q1:\n",
    "    q1_ques.append(q)\n",
    "\n",
    "q1_idx = q1.index.tolist()\n",
    "\n",
    "len(q1_ques) , len(q1_idx)"
   ]
  },
  {
   "cell_type": "code",
   "execution_count": 7,
   "metadata": {},
   "outputs": [
    {
     "data": {
      "text/plain": [
       "(386, 386)"
      ]
     },
     "execution_count": 7,
     "metadata": {},
     "output_type": "execute_result"
    }
   ],
   "source": [
    "q2_ques= []\n",
    "\n",
    "for q in q2:\n",
    "    q2_ques.append(q)\n",
    "\n",
    "q2_idx = q2.index.tolist()\n",
    "\n",
    "len(q2_ques) , len(q2_idx)"
   ]
  },
  {
   "cell_type": "code",
   "execution_count": 8,
   "metadata": {},
   "outputs": [
    {
     "data": {
      "text/plain": [
       "(197, 197)"
      ]
     },
     "execution_count": 8,
     "metadata": {},
     "output_type": "execute_result"
    }
   ],
   "source": [
    "q3_ques= []\n",
    "\n",
    "for q in q3:\n",
    "    q3_ques.append(q)\n",
    "\n",
    "q3_idx = q3.index.tolist()\n",
    "\n",
    "len(q3_ques) , len(q3_idx)"
   ]
  },
  {
   "cell_type": "code",
   "execution_count": 9,
   "metadata": {},
   "outputs": [
    {
     "data": {
      "text/plain": [
       "(48, 48)"
      ]
     },
     "execution_count": 9,
     "metadata": {},
     "output_type": "execute_result"
    }
   ],
   "source": [
    "q4_ques= []\n",
    "\n",
    "for q in q4:\n",
    "    q4_ques.append(q)\n",
    "\n",
    "q4_idx = q4.index.tolist()\n",
    "\n",
    "len(q4_ques) , len(q4_idx)"
   ]
  },
  {
   "cell_type": "code",
   "execution_count": 10,
   "metadata": {},
   "outputs": [],
   "source": [
    "all_ques = []\n",
    "\n",
    "all_ques.extend(q1_ques)\n",
    "all_ques.extend(q2_ques)\n",
    "all_ques.extend(q3_ques)\n",
    "all_ques.extend(q4_ques)"
   ]
  },
  {
   "cell_type": "code",
   "execution_count": 11,
   "metadata": {},
   "outputs": [
    {
     "data": {
      "text/plain": [
       "1050"
      ]
     },
     "execution_count": 11,
     "metadata": {},
     "output_type": "execute_result"
    }
   ],
   "source": [
    "len(all_ques)"
   ]
  },
  {
   "cell_type": "code",
   "execution_count": 12,
   "metadata": {},
   "outputs": [
    {
     "data": {
      "text/plain": [
       "1050"
      ]
     },
     "execution_count": 12,
     "metadata": {},
     "output_type": "execute_result"
    }
   ],
   "source": [
    "386+197+48+419"
   ]
  },
  {
   "cell_type": "code",
   "execution_count": 13,
   "metadata": {},
   "outputs": [],
   "source": [
    "mujib_names = [\"বঙ্গবন্ধু\", \"শেখ মুজিব\", \"শেখ মুজিবুর রহমান\" , \"জাতির জনক\"]"
   ]
  },
  {
   "cell_type": "code",
   "execution_count": 14,
   "metadata": {},
   "outputs": [],
   "source": [
    "test = \"জাতির জনক বঙ্গবন্ধু শেখ মুজিবুর রহমান ১৯৭৫ সালে মারা যান \""
   ]
  },
  {
   "cell_type": "markdown",
   "metadata": {},
   "source": [
    "# main method "
   ]
  },
  {
   "cell_type": "code",
   "execution_count": 15,
   "metadata": {},
   "outputs": [
    {
     "name": "stdout",
     "output_type": "stream",
     "text": [
      "মুজিব মুজিব মুজিব ১৯৭৫ সালে মারা যান \n",
      "মুজিব ১৯৭৫ সালে মারা যান \n"
     ]
    }
   ],
   "source": [
    "mujib_names = [\"বঙ্গবন্ধু\", \"বঙ্গবন্ধুর\",\"শেখ মুজিবুর রহমান\" ,\"শেখ মুজিব\",   \"জাতির পিতা\",\"জাতির জনক\"]\n",
    "test = \"জাতির জনক বঙ্গবন্ধু শেখ মুজিবুর রহমান ১৯৭৫ সালে মারা যান \"\n",
    "\n",
    "for name in mujib_names:\n",
    "    test = test.replace(name, \"মুজিব\")\n",
    "\n",
    "\n",
    "print(test)\n",
    "\n",
    "\n",
    "while \"মুজিব মুজিব\" in test:\n",
    "    test = test.replace(\"মুজিব মুজিব\", \"মুজিব\")\n",
    "\n",
    "print(test)\n",
    "\n"
   ]
  },
  {
   "cell_type": "code",
   "execution_count": 16,
   "metadata": {},
   "outputs": [
    {
     "name": "stdout",
     "output_type": "stream",
     "text": [
      "Actual tests : ['জাতির জনক বঙ্গবন্ধু শেখ মুজিবুর রহমান ১৯৭৫ সালে মারা যান ', 'ekhane mujib nai ']\n",
      "Altered tests : ['মুজিব ১৯৭৫ সালে মারা যান ', 'ekhane mujib nai ']\n"
     ]
    }
   ],
   "source": [
    "mujib_names = [\"বঙ্গবন্ধু\", \"বঙ্গবন্ধুর\", \"শেখ মুজিবুর রহমান\",\n",
    "               \"শেখ মুজিব\",   \"জাতির পিতা\", \"জাতির জনক\"]\n",
    "test = \"জাতির জনক বঙ্গবন্ধু শেখ মুজিবুর রহমান ১৯৭৫ সালে মারা যান \"\n",
    "altered_test = []\n",
    "tests = [test, \"ekhane mujib nai \"]\n",
    "for t in tests:\n",
    "    t_q = t\n",
    "\n",
    "    for name in mujib_names:\n",
    "        t_q = t_q.replace(name, \"মুজিব\")\n",
    "\n",
    "    while \"মুজিব মুজিব\" in t_q:\n",
    "        t_q = t_q.replace(\"মুজিব মুজিব\", \"মুজিব\")\n",
    "    altered_test.append(t_q)\n",
    "\n",
    "print(f\"Actual tests : {tests}\")\n",
    "print(f\"Altered tests : {altered_test}\")"
   ]
  },
  {
   "cell_type": "code",
   "execution_count": null,
   "metadata": {},
   "outputs": [],
   "source": []
  },
  {
   "attachments": {},
   "cell_type": "markdown",
   "metadata": {},
   "source": [
    "# BOW"
   ]
  },
  {
   "cell_type": "code",
   "execution_count": 17,
   "metadata": {},
   "outputs": [
    {
     "name": "stdout",
     "output_type": "stream",
     "text": [
      "8991\n",
      "[('?', 449), ('শেখ', 253), ('কবে', 162), ('কোন', 157), ('কে', 148), ('কত', 128), ('সালে', 119), ('মুজিব', 108), ('বঙ্গবন্ধু', 105), ('হয়', 102), ('হয়?', 82), ('করা', 76), ('কি', 74), ('করেন', 63), ('মুসলিম', 62), ('লীগ', 62), ('মুজিবুর', 62), ('মুজিবকে', 55), ('কে?', 51), ('কোথায়', 49), ('থেকে', 47), ('এর', 43), ('আওয়ামী', 42), ('নাম', 42), ('করে', 40), ('সময়', 40), ('নিয়ে', 40), ('করেন?', 39), ('রহমান', 38), ('কার', 38), ('সাধারণ', 38), ('মুজিবের', 38), ('আওয়ামী', 37), ('হয়', 36), ('দফা', 36), ('পাকিস্তান', 35), ('দেন', 35), ('হয়?', 34), ('নির্বাচনে', 34), ('পূর্ব', 33), ('কথা', 32), ('ঢাকা', 32), ('হন', 31), ('সরকার', 31), ('ঘোষণা', 31), ('বঙ্গবন্ধুর', 31), ('আন্দোলনের', 30), ('ছিলেন?', 30), ('প্রথম', 30), ('রাষ্ট্রভাষা', 30)]\n"
     ]
    }
   ],
   "source": [
    "from collections import Counter\n",
    "from tqdm.notebook import tqdm_notebook\n",
    "\n",
    "\n",
    "word_ls = []\n",
    "\n",
    "for sen in all_ques:\n",
    "    word_ls.extend(sen.split())\n",
    "    # print(len(word_ls))\n",
    "    \n",
    "\n",
    "print(len(word_ls))\n",
    "    \n",
    "\n",
    "Counter = Counter(word_ls)\n",
    "most_occured_20 = Counter.most_common(20)\n",
    "# print(most_occured_20)\n",
    "    \n",
    "\n",
    "most_occured_50 = Counter.most_common(50)\n",
    "print(most_occured_50)"
   ]
  },
  {
   "cell_type": "code",
   "execution_count": 18,
   "metadata": {},
   "outputs": [],
   "source": [
    "all_ques_copy = all_ques\n"
   ]
  },
  {
   "cell_type": "code",
   "execution_count": 19,
   "metadata": {},
   "outputs": [],
   "source": [
    "mujib_names = [\"বঙ্গবন্ধু\", \"বঙ্গবন্ধুর\", \"শেখ মুজিবুর রহমান\",\n",
    "               \"শেখ মুজিব\",   \"জাতির পিতা\", \"জাতির জনক\"]\n",
    "changed_question = []\n",
    "for question in all_ques:\n",
    "    \n",
    "    altered_ques = question\n",
    "\n",
    "    for name in mujib_names:\n",
    "        altered_ques = altered_ques.replace(name, \"মুজিব\")\n",
    "\n",
    "    while \"মুজিব মুজিব\" in altered_ques:\n",
    "        altered_ques = altered_ques.replace(\"মুজিব মুজিব\", \"মুজিব\")\n",
    "    changed_question.append(altered_ques)\n",
    "    "
   ]
  },
  {
   "cell_type": "code",
   "execution_count": 20,
   "metadata": {},
   "outputs": [
    {
     "data": {
      "text/plain": [
       "1050"
      ]
     },
     "execution_count": 20,
     "metadata": {},
     "output_type": "execute_result"
    }
   ],
   "source": [
    "len(changed_question)"
   ]
  },
  {
   "cell_type": "code",
   "execution_count": 21,
   "metadata": {},
   "outputs": [
    {
     "name": "stdout",
     "output_type": "stream",
     "text": [
      "8666\n",
      "[('?', 449), ('মুজিব', 238), ('কবে', 162), ('কোন', 157), ('কে', 148), ('কত', 128), ('সালে', 119), ('হয়', 102), ('হয়?', 82), ('মুজিবকে', 77), ('করা', 76), ('কি', 74), ('করেন', 63), ('মুসলিম', 62), ('লীগ', 62), ('মুজিবের', 55), ('কে?', 51), ('কোথায়', 49), ('থেকে', 47), ('এর', 43), ('আওয়ামী', 42), ('নাম', 42), ('করে', 40), ('সময়', 40), ('নিয়ে', 40), ('করেন?', 39), ('কার', 38), ('সাধারণ', 38), ('আওয়ামী', 37), ('হয়', 36), ('দফা', 36), ('পাকিস্তান', 35), ('দেন', 35), ('হয়?', 34), ('নির্বাচনে', 34), ('পূর্ব', 33), ('কথা', 32), ('ঢাকা', 32), ('হন', 31), ('সরকার', 31), ('ঘোষণা', 31), ('মুজিবর', 31), ('আন্দোলনের', 30), ('ছিলেন?', 30), ('প্রথম', 30), ('রাষ্ট্রভাষা', 30), ('ভাষা', 30), ('হিসেবে', 29), ('নির্বাচিত', 29), ('ঘোষণা', 29)]\n"
     ]
    }
   ],
   "source": [
    "from collections import Counter\n",
    "from tqdm.notebook import tqdm_notebook\n",
    "\n",
    "\n",
    "word_ls = []\n",
    "\n",
    "for sen in changed_question:\n",
    "    word_ls.extend(sen.split())\n",
    "    # print(len(word_ls))\n",
    "    \n",
    "\n",
    "print(len(word_ls))\n",
    "    \n",
    "\n",
    "Counter = Counter(word_ls)\n",
    "most_occured_20 = Counter.most_common(20)\n",
    "# print(most_occured_20)\n",
    "    \n",
    "\n",
    "most_occured_50 = Counter.most_common(50)\n",
    "print(most_occured_50)"
   ]
  },
  {
   "cell_type": "code",
   "execution_count": 22,
   "metadata": {},
   "outputs": [],
   "source": [
    "mujib_names = [\"বঙ্গবন্ধু\", \"বঙ্গবন্ধুর\", \"শেখ মুজিবুর রহমান\",\n",
    "               \"শেখ মুজিব\",   \"জাতির পিতা\", \"জাতির জনক\"]\n",
    "changed_q1 = []\n",
    "for question in q1_ques:\n",
    "    \n",
    "    altered_ques = question\n",
    "\n",
    "    for name in mujib_names:\n",
    "        altered_ques = altered_ques.replace(name, \"মুজিব\")\n",
    "\n",
    "    while \"মুজিব মুজিব\" in altered_ques:\n",
    "        altered_ques = altered_ques.replace(\"মুজিব মুজিব\", \"মুজিব\")\n",
    "    changed_q1.append(altered_ques)"
   ]
  },
  {
   "cell_type": "code",
   "execution_count": 23,
   "metadata": {},
   "outputs": [
    {
     "name": "stdout",
     "output_type": "stream",
     "text": [
      "3824\n",
      "[('?', 209), ('মুজিব', 105), ('কত', 74), ('সালে', 71), ('কোন', 65), ('কে', 58), ('কবে', 48), ('হয়', 42), ('করা', 32), ('মুজিবকে', 30), ('হয়?', 28), ('করেন', 26), ('মুসলিম', 25), ('কোথায়', 24), ('লীগ', 22), ('হয়', 21), ('কার', 21), ('মুজিবের', 21), ('পাকিস্তান', 20), ('কে?', 20), ('কি', 20), ('প্রথম', 19), ('হয়?', 18), ('আওয়ামী', 17), ('করে', 17), ('সময়', 17), ('কথা', 17), ('ঢাকা', 17), ('পূর্ব', 16), ('থেকে', 16), ('দেন', 16), ('ঘোষণা', 16), ('সালের', 15), ('আওয়ামী', 15), ('সাধারণ', 15), ('দফা', 15), ('এর', 14), ('হিসেবে', 14), ('করেন?', 14), ('দাবি', 14), ('রাষ্ট্রভাষা', 14), ('বলে।', 14), ('নির্বাচিত', 13), ('নাম', 13), ('করার', 13), ('ঘোষণা', 13), ('বাংলাদেশের', 13), ('নিয়ে', 13), ('হন', 12), ('লীগের', 12)]\n"
     ]
    }
   ],
   "source": [
    "from collections import Counter\n",
    "from tqdm.notebook import tqdm_notebook\n",
    "\n",
    "\n",
    "word_ls = []\n",
    "\n",
    "for sen in changed_q1:\n",
    "    word_ls.extend(sen.split())\n",
    "    # print(len(word_ls))\n",
    "    \n",
    "\n",
    "print(len(word_ls))\n",
    "    \n",
    "\n",
    "Counter = Counter(word_ls)\n",
    "most_occured_20 = Counter.most_common(20)\n",
    "# print(most_occured_20)\n",
    "    \n",
    "\n",
    "most_occured_50 = Counter.most_common(50)\n",
    "print(most_occured_50)"
   ]
  },
  {
   "cell_type": "code",
   "execution_count": 24,
   "metadata": {},
   "outputs": [],
   "source": [
    "mujib_names = [\"বঙ্গবন্ধু\", \"বঙ্গবন্ধুর\", \"শেখ মুজিবুর রহমান\",\n",
    "               \"শেখ মুজিব\",   \"জাতির পিতা\", \"জাতির জনক\"]\n",
    "changed_q2 = []\n",
    "for question in q2_ques:\n",
    "    \n",
    "    altered_ques = question\n",
    "\n",
    "    for name in mujib_names:\n",
    "        altered_ques = altered_ques.replace(name, \"মুজিব\")\n",
    "\n",
    "    while \"মুজিব মুজিব\" in altered_ques:\n",
    "        altered_ques = altered_ques.replace(\"মুজিব মুজিব\", \"মুজিব\")\n",
    "    changed_q2.append(altered_ques)"
   ]
  },
  {
   "cell_type": "code",
   "execution_count": 25,
   "metadata": {},
   "outputs": [],
   "source": [
    "mujib_names = [\"বঙ্গবন্ধু\", \"বঙ্গবন্ধুর\", \"শেখ মুজিবুর রহমান\",\n",
    "               \"শেখ মুজিব\",   \"জাতির পিতা\", \"জাতির জনক\"]\n",
    "changed_q3 = []\n",
    "for question in q3_ques:\n",
    "    \n",
    "    altered_ques = question\n",
    "\n",
    "    for name in mujib_names:\n",
    "        altered_ques = altered_ques.replace(name, \"মুজিব\")\n",
    "\n",
    "    while \"মুজিব মুজিব\" in altered_ques:\n",
    "        altered_ques = altered_ques.replace(\"মুজিব মুজিব\", \"মুজিব\")\n",
    "    changed_q3.append(altered_ques)"
   ]
  },
  {
   "cell_type": "code",
   "execution_count": 26,
   "metadata": {},
   "outputs": [],
   "source": [
    "mujib_names = [\"বঙ্গবন্ধু\", \"বঙ্গবন্ধুর\", \"শেখ মুজিবুর রহমান\",\n",
    "               \"শেখ মুজিব\",   \"জাতির পিতা\", \"জাতির জনক\"]\n",
    "changed_q4 = []\n",
    "for question in q4_ques:\n",
    "    \n",
    "    altered_ques = question\n",
    "\n",
    "    for name in mujib_names:\n",
    "        altered_ques = altered_ques.replace(name, \"মুজিব\")\n",
    "\n",
    "    while \"মুজিব মুজিব\" in altered_ques:\n",
    "        altered_ques = altered_ques.replace(\"মুজিব মুজিব\", \"মুজিব\")\n",
    "    changed_q4.append(altered_ques)"
   ]
  },
  {
   "cell_type": "code",
   "execution_count": 27,
   "metadata": {},
   "outputs": [],
   "source": [
    "import evaluate\n",
    "\n",
    "q1_embedding = evaluate.get_embeddings(changed_q1)"
   ]
  },
  {
   "cell_type": "code",
   "execution_count": 28,
   "metadata": {},
   "outputs": [
    {
     "name": "stdout",
     "output_type": "stream",
     "text": [
      "Successfully indexed: 308 questions out of 386\n",
      "Models Accuracy :  0.7979274611398963\n"
     ]
    }
   ],
   "source": [
    "evaluate.evaluate(changed_q2,q2_idx,q1_embedding,q1_idx)"
   ]
  },
  {
   "cell_type": "code",
   "execution_count": 29,
   "metadata": {},
   "outputs": [
    {
     "name": "stdout",
     "output_type": "stream",
     "text": [
      "Successfully indexed: 135 questions out of 197\n",
      "Models Accuracy :  0.6852791878172588\n"
     ]
    }
   ],
   "source": [
    "evaluate.evaluate(changed_q3,q3_idx,q1_embedding,q1_idx)"
   ]
  },
  {
   "cell_type": "code",
   "execution_count": 30,
   "metadata": {},
   "outputs": [
    {
     "name": "stdout",
     "output_type": "stream",
     "text": [
      "Successfully indexed: 36 questions out of 48\n",
      "Models Accuracy :  0.75\n"
     ]
    }
   ],
   "source": [
    "evaluate.evaluate(changed_q4,q4_idx,q1_embedding,q1_idx)"
   ]
  }
 ],
 "metadata": {
  "kernelspec": {
   "display_name": "Python 3",
   "language": "python",
   "name": "python3"
  },
  "language_info": {
   "codemirror_mode": {
    "name": "ipython",
    "version": 3
   },
   "file_extension": ".py",
   "mimetype": "text/x-python",
   "name": "python",
   "nbconvert_exporter": "python",
   "pygments_lexer": "ipython3",
   "version": "3.10.8"
  },
  "orig_nbformat": 4,
  "vscode": {
   "interpreter": {
    "hash": "bf9ec3a168eda91ec23e4e4a6573ab2b63a856f23171df9eec7be2cd41d19962"
   }
  }
 },
 "nbformat": 4,
 "nbformat_minor": 2
}
