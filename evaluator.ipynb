{
 "cells": [
  {
   "cell_type": "code",
   "execution_count": 21,
   "metadata": {},
   "outputs": [],
   "source": [
    "from sentence_transformers import SentenceTransformer\n",
    "import numpy as np\n",
    "import torch\n",
    "import pickle\n",
    "from sentence_transformers.util import semantic_search\n",
    "import json "
   ]
  },
  {
   "cell_type": "code",
   "execution_count": 22,
   "metadata": {},
   "outputs": [],
   "source": [
    "model_path = \"data/model/st-model/16500\"\n",
    "# model_path = \"data/model/st-model-1/37500\"\n",
    "# retriever_model = SentenceTransformer(\"sentence-transformers/paraphrase-multilingual-MiniLM-L12-v2\")\n",
    "retriever_model = SentenceTransformer(model_path)"
   ]
  },
  {
   "cell_type": "code",
   "execution_count": 23,
   "metadata": {},
   "outputs": [],
   "source": [
    "import pandas as pd\n",
    "df = pd.read_excel(\"data/final_data.xlsx\")"
   ]
  },
  {
   "cell_type": "code",
   "execution_count": 24,
   "metadata": {},
   "outputs": [],
   "source": [
    "ques_df = df[['Q1','Q2','Q3','Q4','Mujib Relevant']]\n"
   ]
  },
  {
   "cell_type": "code",
   "execution_count": 25,
   "metadata": {},
   "outputs": [],
   "source": [
    "mujib_relevant_ques = ques_df[ques_df['Mujib Relevant'] == \"YES\"]\n"
   ]
  },
  {
   "cell_type": "code",
   "execution_count": 26,
   "metadata": {},
   "outputs": [],
   "source": [
    "q1 = mujib_relevant_ques['Q1'].dropna()\n",
    "q2 = mujib_relevant_ques['Q2'].dropna()\n",
    "q3 = mujib_relevant_ques['Q3'].dropna()\n",
    "q4 = mujib_relevant_ques['Q4'].dropna()"
   ]
  },
  {
   "cell_type": "code",
   "execution_count": 27,
   "metadata": {},
   "outputs": [
    {
     "name": "stdout",
     "output_type": "stream",
     "text": [
      "Total Q1 : 265\n",
      "Total Q2 : 244\n",
      "Total Q3 : 127\n",
      "Total Q4 : 35\n"
     ]
    }
   ],
   "source": [
    "print(f\"Total Q1 : {len(q1)}\")\n",
    "print(f\"Total Q2 : {len(q2)}\")\n",
    "print(f\"Total Q3 : {len(q3)}\")\n",
    "print(f\"Total Q4 : {len(q4)}\")"
   ]
  },
  {
   "cell_type": "code",
   "execution_count": 28,
   "metadata": {},
   "outputs": [
    {
     "data": {
      "text/plain": [
       "(265, 265)"
      ]
     },
     "execution_count": 28,
     "metadata": {},
     "output_type": "execute_result"
    }
   ],
   "source": [
    "q1_ques= []\n",
    "\n",
    "for q in q1:\n",
    "    q1_ques.append(q)\n",
    "\n",
    "q1_idx = q1.index.tolist()\n",
    "\n",
    "len(q1_ques) , len(q1_idx)"
   ]
  },
  {
   "cell_type": "code",
   "execution_count": 29,
   "metadata": {},
   "outputs": [
    {
     "data": {
      "text/plain": [
       "(244, 244)"
      ]
     },
     "execution_count": 29,
     "metadata": {},
     "output_type": "execute_result"
    }
   ],
   "source": [
    "q2_ques= []\n",
    "\n",
    "for q in q2:\n",
    "    q2_ques.append(q)\n",
    "\n",
    "q2_idx = q2.index.tolist()\n",
    "\n",
    "len(q2_ques) , len(q2_idx)"
   ]
  },
  {
   "cell_type": "code",
   "execution_count": 30,
   "metadata": {},
   "outputs": [
    {
     "data": {
      "text/plain": [
       "(127, 127)"
      ]
     },
     "execution_count": 30,
     "metadata": {},
     "output_type": "execute_result"
    }
   ],
   "source": [
    "q3_ques= []\n",
    "\n",
    "for q in q3:\n",
    "    q3_ques.append(q)\n",
    "\n",
    "q3_idx = q3.index.tolist()\n",
    "\n",
    "len(q3_ques) , len(q3_idx)"
   ]
  },
  {
   "cell_type": "code",
   "execution_count": 31,
   "metadata": {},
   "outputs": [
    {
     "data": {
      "text/plain": [
       "(35, 35)"
      ]
     },
     "execution_count": 31,
     "metadata": {},
     "output_type": "execute_result"
    }
   ],
   "source": [
    "q4_ques= []\n",
    "\n",
    "for q in q4:\n",
    "    q4_ques.append(q)\n",
    "\n",
    "q4_idx = q4.index.tolist()\n",
    "\n",
    "len(q4_ques) , len(q4_idx)"
   ]
  },
  {
   "cell_type": "code",
   "execution_count": 32,
   "metadata": {},
   "outputs": [],
   "source": [
    "q1_embds = retriever_model.encode(q1_ques)"
   ]
  },
  {
   "cell_type": "code",
   "execution_count": 33,
   "metadata": {},
   "outputs": [],
   "source": [
    "\n",
    "def evaluate(qN):\n",
    "    \n",
    "    if qN == 2:\n",
    "        ques = q2_ques\n",
    "        index = q2_idx\n",
    "    elif qN == 3:\n",
    "        ques = q3_ques\n",
    "        index = q3_idx\n",
    "    elif qN == 4:\n",
    "        ques = q4_ques\n",
    "        index = q4_idx\n",
    "    else:\n",
    "        return \"Invalid question number\"\n",
    "            \n",
    "        \n",
    "    model_idx = []\n",
    "    for q in ques:\n",
    "        q_emb = retriever_model.encode(q)\n",
    "        query_embeddings = torch.FloatTensor(q_emb)\n",
    "        hits = semantic_search(query_embeddings, q1_embds, top_k=1)\n",
    "\n",
    "        # print(hits[0][0]['corpus_id'])\n",
    "        model_idx.append(hits[0][0]['corpus_id'])\n",
    "\n",
    "    f_d = []\n",
    "    for i in range(len(model_idx)):\n",
    "        f = model_idx[i]\n",
    "        # if f <= q2_idx[-1]:\n",
    "        f_d.append(q1_idx[model_idx[i]])\n",
    "\n",
    "    count = 0\n",
    "    for i in range(len(f_d)):\n",
    "        if f_d[i] == index[i]:\n",
    "            count += 1\n",
    "\n",
    "    print(f\"Successfully indexed: {count} questions out of {len(index)}\")\n",
    "\n",
    "    model_accuracy = count/len(index)\n",
    "    print(\"Models Accuracy : \", model_accuracy)"
   ]
  },
  {
   "cell_type": "code",
   "execution_count": 34,
   "metadata": {},
   "outputs": [
    {
     "name": "stdout",
     "output_type": "stream",
     "text": [
      "Successfully indexed: 177 questions out of 244\n",
      "Models Accuracy :  0.7254098360655737\n"
     ]
    }
   ],
   "source": [
    "evaluate(2)"
   ]
  },
  {
   "cell_type": "code",
   "execution_count": 35,
   "metadata": {},
   "outputs": [
    {
     "name": "stdout",
     "output_type": "stream",
     "text": [
      "Successfully indexed: 90 questions out of 127\n",
      "Models Accuracy :  0.7086614173228346\n"
     ]
    }
   ],
   "source": [
    "evaluate(3)"
   ]
  },
  {
   "cell_type": "code",
   "execution_count": 36,
   "metadata": {},
   "outputs": [
    {
     "name": "stdout",
     "output_type": "stream",
     "text": [
      "Successfully indexed: 26 questions out of 35\n",
      "Models Accuracy :  0.7428571428571429\n"
     ]
    }
   ],
   "source": [
    "evaluate(4)"
   ]
  },
  {
   "cell_type": "code",
   "execution_count": 37,
   "metadata": {},
   "outputs": [],
   "source": [
    "def generate_report():\n",
    "    \n",
    "    print('='*15+\" Testing with Q2 \"+'='*15)\n",
    "    print()\n",
    "    evaluate(2)\n",
    "    print()\n",
    "    print('='*15+\" Testing with Q3 \"+'='*15)\n",
    "    print()\n",
    "    evaluate(3)\n",
    "    print()\n",
    "    print('='*15+\" Testing with Q4 \"+'='*15)\n",
    "    print()\n",
    "    evaluate(4)"
   ]
  },
  {
   "cell_type": "code",
   "execution_count": 38,
   "metadata": {},
   "outputs": [
    {
     "name": "stdout",
     "output_type": "stream",
     "text": [
      "=============== Testing with Q2 ===============\n",
      "\n",
      "Successfully indexed: 177 questions out of 244\n",
      "Models Accuracy :  0.7254098360655737\n",
      "\n",
      "=============== Testing with Q3 ===============\n",
      "\n",
      "Successfully indexed: 90 questions out of 127\n",
      "Models Accuracy :  0.7086614173228346\n",
      "\n",
      "=============== Testing with Q4 ===============\n",
      "\n",
      "Successfully indexed: 26 questions out of 35\n",
      "Models Accuracy :  0.7428571428571429\n"
     ]
    }
   ],
   "source": [
    "generate_report()"
   ]
  },
  {
   "cell_type": "code",
   "execution_count": null,
   "metadata": {},
   "outputs": [],
   "source": []
  }
 ],
 "metadata": {
  "kernelspec": {
   "display_name": "Python 3",
   "language": "python",
   "name": "python3"
  },
  "language_info": {
   "codemirror_mode": {
    "name": "ipython",
    "version": 3
   },
   "file_extension": ".py",
   "mimetype": "text/x-python",
   "name": "python",
   "nbconvert_exporter": "python",
   "pygments_lexer": "ipython3",
   "version": "3.10.8"
  },
  "orig_nbformat": 4,
  "vscode": {
   "interpreter": {
    "hash": "bf9ec3a168eda91ec23e4e4a6573ab2b63a856f23171df9eec7be2cd41d19962"
   }
  }
 },
 "nbformat": 4,
 "nbformat_minor": 2
}
