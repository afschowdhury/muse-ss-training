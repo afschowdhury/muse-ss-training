{
 "cells": [
  {
   "cell_type": "code",
   "execution_count": 1,
   "metadata": {},
   "outputs": [
    {
     "name": "stderr",
     "output_type": "stream",
     "text": [
      "/home/shagoto/codes/headless/test_repos/semantic_search_experiment/env/lib/python3.10/site-packages/tqdm/auto.py:22: TqdmWarning: IProgress not found. Please update jupyter and ipywidgets. See https://ipywidgets.readthedocs.io/en/stable/user_install.html\n",
      "  from .autonotebook import tqdm as notebook_tqdm\n"
     ]
    }
   ],
   "source": [
    "import utils\n",
    "import evaluate\n",
    "\n"
   ]
  },
  {
   "cell_type": "code",
   "execution_count": 2,
   "metadata": {},
   "outputs": [],
   "source": [
    "excel_path = \"data/final_data.xlsx\""
   ]
  },
  {
   "cell_type": "code",
   "execution_count": 3,
   "metadata": {},
   "outputs": [],
   "source": [
    "q1_m, q2_m, q3_m, q4_m = utils.mujib_relevant_questions_from_excel(excel_path)"
   ]
  },
  {
   "cell_type": "code",
   "execution_count": 4,
   "metadata": {},
   "outputs": [
    {
     "name": "stdout",
     "output_type": "stream",
     "text": [
      "=============== Total # of Mujib Relavant Questions ===============\n",
      "\n",
      "Total Q1 : 265\n",
      "Total Q2 : 244\n",
      "Total Q3 : 127\n",
      "Total Q4 : 35\n"
     ]
    }
   ],
   "source": [
    "print(\"=\"*15+\" Total # of Mujib Relavant Questions \"+\"=\"*15)\n",
    "print()\n",
    "utils.number_of_questions([q1_m, q2_m, q3_m, q4_m])"
   ]
  },
  {
   "cell_type": "code",
   "execution_count": 5,
   "metadata": {},
   "outputs": [],
   "source": [
    "q1_m_ques, q1_m_idx = utils.question_context_splitter(q1_m)\n",
    "q2_m_ques, q2_m_idx = utils.question_context_splitter(q2_m)\n",
    "q3_m_ques, q3_m_idx = utils.question_context_splitter(q3_m)\n",
    "q4_m_ques, q4_m_idx = utils.question_context_splitter(q4_m)"
   ]
  },
  {
   "cell_type": "code",
   "execution_count": 6,
   "metadata": {},
   "outputs": [],
   "source": [
    "q1m_embeddings = evaluate.get_embeddings(q1_m_ques)"
   ]
  },
  {
   "attachments": {},
   "cell_type": "markdown",
   "metadata": {},
   "source": [
    "### Evaluation (Mujib Relavant) with `Q2,Q3,Q4` keeping `Q1` base\n",
    "\n"
   ]
  },
  {
   "cell_type": "code",
   "execution_count": 7,
   "metadata": {},
   "outputs": [
    {
     "name": "stdout",
     "output_type": "stream",
     "text": [
      "=============== Q2 Evaluation ===============\n",
      "\n",
      "\tSuccessfully indexed: 181 questions out of 244\n",
      "\tModel's Accuracy :  0.7418032786885246\n"
     ]
    }
   ],
   "source": [
    "# print(\"=\"*15+\" Q2 Evaluation \"+\"=\"*15)\n",
    "# print()\n",
    "evaluate.evaluate(q2_m_ques, q2_m_idx,q1m_embeddings,q1_m_idx,'Q2')"
   ]
  },
  {
   "cell_type": "code",
   "execution_count": 8,
   "metadata": {},
   "outputs": [
    {
     "name": "stdout",
     "output_type": "stream",
     "text": [
      "=============== Q3 Evaluation ===============\n",
      "\n",
      "\tSuccessfully indexed: 90 questions out of 127\n",
      "\tModel's Accuracy :  0.7086614173228346\n"
     ]
    }
   ],
   "source": [
    "# print(\"=\"*15+\" Q2 Evaluation \"+\"=\"*15)\n",
    "# print()\n",
    "evaluate.evaluate(q3_m_ques, q3_m_idx,q1m_embeddings,q1_m_idx,'Q3')"
   ]
  },
  {
   "cell_type": "code",
   "execution_count": 9,
   "metadata": {},
   "outputs": [
    {
     "name": "stdout",
     "output_type": "stream",
     "text": [
      "=============== Q4 Evaluation ===============\n",
      "\n",
      "\tSuccessfully indexed: 24 questions out of 35\n",
      "\tModel's Accuracy :  0.6857142857142857\n"
     ]
    }
   ],
   "source": [
    "# print(\"=\"*15+\" Q2 Evaluation \"+\"=\"*15)\n",
    "# print()\n",
    "evaluate.evaluate(q4_m_ques, q4_m_idx,q1m_embeddings,q1_m_idx,'Q4')"
   ]
  }
 ],
 "metadata": {
  "kernelspec": {
   "display_name": "Python 3",
   "language": "python",
   "name": "python3"
  },
  "language_info": {
   "codemirror_mode": {
    "name": "ipython",
    "version": 3
   },
   "file_extension": ".py",
   "mimetype": "text/x-python",
   "name": "python",
   "nbconvert_exporter": "python",
   "pygments_lexer": "ipython3",
   "version": "3.10.8"
  },
  "orig_nbformat": 4,
  "vscode": {
   "interpreter": {
    "hash": "bf9ec3a168eda91ec23e4e4a6573ab2b63a856f23171df9eec7be2cd41d19962"
   }
  }
 },
 "nbformat": 4,
 "nbformat_minor": 2
}
