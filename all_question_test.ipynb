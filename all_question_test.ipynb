{
 "cells": [
  {
   "cell_type": "code",
   "execution_count": 1,
   "metadata": {},
   "outputs": [
    {
     "name": "stderr",
     "output_type": "stream",
     "text": [
      "/home/shagoto/codes/headless/test_repos/semantic_search_experiment/env/lib/python3.10/site-packages/tqdm/auto.py:22: TqdmWarning: IProgress not found. Please update jupyter and ipywidgets. See https://ipywidgets.readthedocs.io/en/stable/user_install.html\n",
      "  from .autonotebook import tqdm as notebook_tqdm\n"
     ]
    }
   ],
   "source": [
    "from sentence_transformers import SentenceTransformer\n",
    "import numpy as np\n",
    "import torch\n",
    "import pickle\n",
    "from sentence_transformers.util import semantic_search\n",
    "import json "
   ]
  },
  {
   "cell_type": "code",
   "execution_count": 2,
   "metadata": {},
   "outputs": [],
   "source": [
    "model_path = \"data/model/st-model/16500\"\n",
    "# model_path = \"data/model/st-model-1/37500\"\n",
    "# retriever_model = SentenceTransformer(\"sentence-transformers/paraphrase-multilingual-MiniLM-L12-v2\")\n",
    "retriever_model = SentenceTransformer(model_path)"
   ]
  },
  {
   "cell_type": "code",
   "execution_count": 3,
   "metadata": {},
   "outputs": [],
   "source": [
    "import pandas as pd\n",
    "df = pd.read_excel(\"data/final_data.xlsx\")"
   ]
  },
  {
   "cell_type": "code",
   "execution_count": 4,
   "metadata": {},
   "outputs": [],
   "source": [
    "ques_df = df[['Q1','Q2','Q3','Q4']]\n"
   ]
  },
  {
   "cell_type": "code",
   "execution_count": 5,
   "metadata": {},
   "outputs": [],
   "source": [
    "q1 = ques_df['Q1'].dropna()\n",
    "q2 = ques_df['Q2'].dropna()\n",
    "q3 = ques_df['Q3'].dropna()\n",
    "q4 = ques_df['Q4'].dropna()"
   ]
  },
  {
   "cell_type": "code",
   "execution_count": 6,
   "metadata": {},
   "outputs": [
    {
     "name": "stdout",
     "output_type": "stream",
     "text": [
      "Total Q1 : 419\n",
      "Total Q2 : 386\n",
      "Total Q3 : 197\n",
      "Total Q4 : 48\n"
     ]
    }
   ],
   "source": [
    "print(f\"Total Q1 : {len(q1)}\")\n",
    "print(f\"Total Q2 : {len(q2)}\")\n",
    "print(f\"Total Q3 : {len(q3)}\")\n",
    "print(f\"Total Q4 : {len(q4)}\")"
   ]
  },
  {
   "cell_type": "code",
   "execution_count": 7,
   "metadata": {},
   "outputs": [
    {
     "data": {
      "text/plain": [
       "(419, 419)"
      ]
     },
     "execution_count": 7,
     "metadata": {},
     "output_type": "execute_result"
    }
   ],
   "source": [
    "q1_ques= []\n",
    "\n",
    "for q in q1:\n",
    "    q1_ques.append(q)\n",
    "\n",
    "q1_idx = q1.index.tolist()\n",
    "\n",
    "len(q1_ques) , len(q1_idx)"
   ]
  },
  {
   "cell_type": "code",
   "execution_count": 8,
   "metadata": {},
   "outputs": [
    {
     "data": {
      "text/plain": [
       "(386, 386)"
      ]
     },
     "execution_count": 8,
     "metadata": {},
     "output_type": "execute_result"
    }
   ],
   "source": [
    "q2_ques= []\n",
    "\n",
    "for q in q2:\n",
    "    q2_ques.append(q)\n",
    "\n",
    "q2_idx = q2.index.tolist()\n",
    "\n",
    "len(q2_ques) , len(q2_idx)"
   ]
  },
  {
   "cell_type": "code",
   "execution_count": 9,
   "metadata": {},
   "outputs": [
    {
     "data": {
      "text/plain": [
       "(197, 197)"
      ]
     },
     "execution_count": 9,
     "metadata": {},
     "output_type": "execute_result"
    }
   ],
   "source": [
    "q3_ques= []\n",
    "\n",
    "for q in q3:\n",
    "    q3_ques.append(q)\n",
    "\n",
    "q3_idx = q3.index.tolist()\n",
    "\n",
    "len(q3_ques) , len(q3_idx)"
   ]
  },
  {
   "cell_type": "code",
   "execution_count": 10,
   "metadata": {},
   "outputs": [
    {
     "data": {
      "text/plain": [
       "(48, 48)"
      ]
     },
     "execution_count": 10,
     "metadata": {},
     "output_type": "execute_result"
    }
   ],
   "source": [
    "q4_ques= []\n",
    "\n",
    "for q in q4:\n",
    "    q4_ques.append(q)\n",
    "\n",
    "q4_idx = q4.index.tolist()\n",
    "\n",
    "len(q4_ques) , len(q4_idx)"
   ]
  },
  {
   "cell_type": "code",
   "execution_count": 15,
   "metadata": {},
   "outputs": [],
   "source": [
    "import evaluate\n",
    "\n",
    "q1_embeddings = evaluate.get_embeddings(q1_ques)"
   ]
  },
  {
   "cell_type": "code",
   "execution_count": 16,
   "metadata": {},
   "outputs": [
    {
     "name": "stdout",
     "output_type": "stream",
     "text": [
      "Successfully indexed: 278 questions out of 386\n",
      "Models Accuracy :  0.7202072538860104\n"
     ]
    }
   ],
   "source": [
    "evaluate.evaluate(q2_ques,q2_idx,q1_embeddings,q1_idx)"
   ]
  },
  {
   "cell_type": "code",
   "execution_count": 17,
   "metadata": {},
   "outputs": [
    {
     "name": "stdout",
     "output_type": "stream",
     "text": [
      "Successfully indexed: 126 questions out of 197\n",
      "Models Accuracy :  0.6395939086294417\n"
     ]
    }
   ],
   "source": [
    "evaluate.evaluate(q3_ques,q3_idx,q1_embeddings,q1_idx)"
   ]
  },
  {
   "cell_type": "code",
   "execution_count": 18,
   "metadata": {},
   "outputs": [
    {
     "name": "stdout",
     "output_type": "stream",
     "text": [
      "Successfully indexed: 37 questions out of 48\n",
      "Models Accuracy :  0.7708333333333334\n"
     ]
    }
   ],
   "source": [
    "evaluate.evaluate(q4_ques,q4_idx,q1_embeddings,q1_idx)"
   ]
  },
  {
   "cell_type": "code",
   "execution_count": null,
   "metadata": {},
   "outputs": [],
   "source": []
  }
 ],
 "metadata": {
  "kernelspec": {
   "display_name": "Python 3",
   "language": "python",
   "name": "python3"
  },
  "language_info": {
   "codemirror_mode": {
    "name": "ipython",
    "version": 3
   },
   "file_extension": ".py",
   "mimetype": "text/x-python",
   "name": "python",
   "nbconvert_exporter": "python",
   "pygments_lexer": "ipython3",
   "version": "3.10.8"
  },
  "orig_nbformat": 4,
  "vscode": {
   "interpreter": {
    "hash": "bf9ec3a168eda91ec23e4e4a6573ab2b63a856f23171df9eec7be2cd41d19962"
   }
  }
 },
 "nbformat": 4,
 "nbformat_minor": 2
}
